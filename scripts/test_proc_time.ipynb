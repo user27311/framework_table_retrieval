{
 "cells": [
  {
   "cell_type": "code",
   "execution_count": 1,
   "metadata": {},
   "outputs": [
    {
     "name": "stderr",
     "output_type": "stream",
     "text": [
      "/home/vscode/.local/lib/python3.10/site-packages/tqdm/auto.py:21: TqdmWarning: IProgress not found. Please update jupyter and ipywidgets. See https://ipywidgets.readthedocs.io/en/stable/user_install.html\n",
      "  from .autonotebook import tqdm as notebook_tqdm\n"
     ]
    }
   ],
   "source": [
    "from cord19_plus.pdf2json.process import process_docs_parallel\n",
    "#import logging\n",
    "\n",
    "#logging.getLogger().setLevel(logging.INFO)"
   ]
  },
  {
   "cell_type": "code",
   "execution_count": 6,
   "metadata": {},
   "outputs": [],
   "source": [
    "with open(\"/workspaces/CORD19_Plus/data/rel_pdfs/bad_paths\", \"r\") as bad_paths:\n",
    "    bad_paths_list = bad_paths.readlines()\n",
    "    bad_paths_list = [path.strip() for path in bad_paths_list]"
   ]
  },
  {
   "cell_type": "code",
   "execution_count": 7,
   "metadata": {},
   "outputs": [
    {
     "data": {
      "text/plain": [
       "['/workspaces/CORD19_Plus/data/rel_pdfs/pdfs_in/6xc98o4b.pdf',\n",
       " '/workspaces/CORD19_Plus/data/rel_pdfs/pdfs_in/tl4jdjwv.pdf',\n",
       " '/workspaces/CORD19_Plus/data/rel_pdfs/pdfs_in/bzwxt9bq.pdf',\n",
       " '/workspaces/CORD19_Plus/data/rel_pdfs/pdfs_in/p2ahklyl.pdf',\n",
       " '/workspaces/CORD19_Plus/data/rel_pdfs/pdfs_in/6xc98o4b.pdf',\n",
       " '/workspaces/CORD19_Plus/data/rel_pdfs/pdfs_in/tl4jdjwv.pdf',\n",
       " '/workspaces/CORD19_Plus/data/rel_pdfs/pdfs_in/bzwxt9bq.pdf',\n",
       " '/workspaces/CORD19_Plus/data/rel_pdfs/pdfs_in/uj3ta0mz.pdf',\n",
       " '/workspaces/CORD19_Plus/data/rel_pdfs/pdfs_in/uj8a09t3.pdf',\n",
       " '/workspaces/CORD19_Plus/data/rel_pdfs/pdfs_in/6xc98o4b.pdf',\n",
       " '/workspaces/CORD19_Plus/data/rel_pdfs/pdfs_in/tl4jdjwv.pdf',\n",
       " '/workspaces/CORD19_Plus/data/rel_pdfs/pdfs_in/bzwxt9bq.pdf',\n",
       " '/workspaces/CORD19_Plus/data/rel_pdfs/pdfs_in/p2ahklyl.pdf',\n",
       " '/workspaces/CORD19_Plus/data/rel_pdfs/pdfs_in/vn0xu1cn.pdf',\n",
       " '/workspaces/CORD19_Plus/data/rel_pdfs/pdfs_in/z5lvijn0.pdf',\n",
       " '/workspaces/CORD19_Plus/data/rel_pdfs/pdfs_in/tl4jdjwv.pdf',\n",
       " '/workspaces/CORD19_Plus/data/rel_pdfs/pdfs_in/u09rn09u.pdf',\n",
       " '/workspaces/CORD19_Plus/data/rel_pdfs/pdfs_in/uj7fe5y6.pdf',\n",
       " '/workspaces/CORD19_Plus/data/rel_pdfs/pdfs_in/vn0xu1cn.pdf',\n",
       " '/workspaces/CORD19_Plus/data/rel_pdfs/pdfs_in/z82gogvs.pdf',\n",
       " '/workspaces/CORD19_Plus/data/rel_pdfs/pdfs_in/sdqfb591.pdf',\n",
       " '/workspaces/CORD19_Plus/data/rel_pdfs/pdfs_in/6xc98o4b.pdf',\n",
       " '/workspaces/CORD19_Plus/data/rel_pdfs/pdfs_in/pkranpiw.pdf',\n",
       " '/workspaces/CORD19_Plus/data/rel_pdfs/pdfs_in/z7r45291.pdf',\n",
       " '/workspaces/CORD19_Plus/data/rel_pdfs/pdfs_in/snmf8cvt.pdf',\n",
       " '/workspaces/CORD19_Plus/data/rel_pdfs/pdfs_in/yoe2bsdo.pdf',\n",
       " '/workspaces/CORD19_Plus/data/rel_pdfs/pdfs_in/yichfzya.pdf',\n",
       " '/workspaces/CORD19_Plus/data/rel_pdfs/pdfs_in/uftc8inx.pdf',\n",
       " '/workspaces/CORD19_Plus/data/rel_pdfs/pdfs_in/z7zx46gd.pdf',\n",
       " '/workspaces/CORD19_Plus/data/rel_pdfs/pdfs_in/57ghjur1.pdf',\n",
       " '/workspaces/CORD19_Plus/data/rel_pdfs/pdfs_in/xclgf1kk.pdf',\n",
       " '/workspaces/CORD19_Plus/data/rel_pdfs/pdfs_in/z0tdpdkk.pdf',\n",
       " '/workspaces/CORD19_Plus/data/rel_pdfs/pdfs_in/z5lvijn0.pdf',\n",
       " '/workspaces/CORD19_Plus/data/rel_pdfs/pdfs_in/z7yzg325.pdf',\n",
       " '/workspaces/CORD19_Plus/data/rel_pdfs/pdfs_in/z5lvijn0.pdf',\n",
       " '/workspaces/CORD19_Plus/data/rel_pdfs/pdfs_in/vn0xu1cn.pdf',\n",
       " '/workspaces/CORD19_Plus/data/rel_pdfs/pdfs_in/6xc98o4b.pdf',\n",
       " '/workspaces/CORD19_Plus/data/rel_pdfs/pdfs_in/tl4jdjwv.pdf',\n",
       " '/workspaces/CORD19_Plus/data/rel_pdfs/pdfs_in/bzwxt9bq.pdf',\n",
       " '/workspaces/CORD19_Plus/data/rel_pdfs/pdfs_in/p2ahklyl.pdf',\n",
       " '/workspaces/CORD19_Plus/data/rel_pdfs/pdfs_in/z5lvijn0.pdf',\n",
       " '/workspaces/CORD19_Plus/data/rel_pdfs/pdfs_in/vn0xu1cn.pdf',\n",
       " '/workspaces/CORD19_Plus/data/rel_pdfs/pdfs_in/6xc98o4b.pdf',\n",
       " '/workspaces/CORD19_Plus/data/rel_pdfs/pdfs_in/tl4jdjwv.pdf',\n",
       " '/workspaces/CORD19_Plus/data/rel_pdfs/pdfs_in/bzwxt9bq.pdf',\n",
       " '/workspaces/CORD19_Plus/data/rel_pdfs/pdfs_in/p2ahklyl.pdf',\n",
       " '/workspaces/CORD19_Plus/data/rel_pdfs/pdfs_in/z5lvijn0.pdf',\n",
       " '/workspaces/CORD19_Plus/data/rel_pdfs/pdfs_in/vn0xu1cn.pdf',\n",
       " '/workspaces/CORD19_Plus/data/rel_pdfs/pdfs_in/6xc98o4b.pdf',\n",
       " '/workspaces/CORD19_Plus/data/rel_pdfs/pdfs_in/tl4jdjwv.pdf',\n",
       " '/workspaces/CORD19_Plus/data/rel_pdfs/pdfs_in/bzwxt9bq.pdf',\n",
       " '/workspaces/CORD19_Plus/data/rel_pdfs/pdfs_in/p2ahklyl.pdf']"
      ]
     },
     "execution_count": 7,
     "metadata": {},
     "output_type": "execute_result"
    }
   ],
   "source": [
    "with open(\"/workspaces/CORD19_Plus/data/rel_pdfs/bad_paths\", \"w\") as bad_paths:\n",
    "    bad_paths.writelines(set(bad_paths_list))"
   ]
  },
  {
   "cell_type": "code",
   "execution_count": 2,
   "metadata": {},
   "outputs": [],
   "source": [
    "import warnings\n",
    "warnings.filterwarnings(\"ignore\")"
   ]
  },
  {
   "cell_type": "code",
   "execution_count": 3,
   "metadata": {},
   "outputs": [
    {
     "name": "stderr",
     "output_type": "stream",
     "text": [
      "Total PDFs:  13%|█▎        | 2568/19323 [00:00<00:02, 5690.09it/s]ERROR:cord19_plus.pdf2json.process:Error processing /workspaces/CORD19_Plus/data/rel_pdfs/pdfs_in/z5lvijn0.pdf\n",
      "Traceback (most recent call last):\n",
      "  File \"/workspaces/CORD19_Plus/src/cord19_plus/pdf2json/process.py\", line 61, in process_single_doc\n",
      "    doc = recipe.run(f)\n",
      "  File \"/home/vscode/.local/lib/python3.10/site-packages/papermage/recipes/recipe.py\", line 19, in run\n",
      "    return self.from_pdf(pdf=input)\n",
      "  File \"/home/vscode/.local/lib/python3.10/site-packages/papermage/recipes/core_recipe.py\", line 103, in from_pdf\n",
      "    doc = self.parser.parse(input_pdf_path=pdf)\n",
      "  File \"/home/vscode/.local/lib/python3.10/site-packages/papermage/parsers/pdfplumber_parser.py\", line 251, in parse\n",
      "    doc_json = self._convert_nested_text_to_doc_json(\n",
      "  File \"/home/vscode/.local/lib/python3.10/site-packages/papermage/parsers/pdfplumber_parser.py\", line 316, in _convert_nested_text_to_doc_json\n",
      "    symbols += token_dicts[-1][\"text\"]\n",
      "IndexError: list index out of range\n",
      "ERROR:cord19_plus.pdf2json.process:Error processing /workspaces/CORD19_Plus/data/rel_pdfs/pdfs_in/vn0xu1cn.pdf\n",
      "Traceback (most recent call last):\n",
      "  File \"/workspaces/CORD19_Plus/src/cord19_plus/pdf2json/process.py\", line 61, in process_single_doc\n",
      "    doc = recipe.run(f)\n",
      "  File \"/home/vscode/.local/lib/python3.10/site-packages/papermage/recipes/recipe.py\", line 19, in run\n",
      "    return self.from_pdf(pdf=input)\n",
      "  File \"/home/vscode/.local/lib/python3.10/site-packages/papermage/recipes/core_recipe.py\", line 103, in from_pdf\n",
      "    doc = self.parser.parse(input_pdf_path=pdf)\n",
      "  File \"/home/vscode/.local/lib/python3.10/site-packages/papermage/parsers/pdfplumber_parser.py\", line 251, in parse\n",
      "    doc_json = self._convert_nested_text_to_doc_json(\n",
      "  File \"/home/vscode/.local/lib/python3.10/site-packages/papermage/parsers/pdfplumber_parser.py\", line 316, in _convert_nested_text_to_doc_json\n",
      "    symbols += token_dicts[-1][\"text\"]\n",
      "IndexError: list index out of range\n",
      "Total PDFs:  13%|█▎        | 2568/19323 [00:19<00:02, 5690.09it/s]ERROR:cord19_plus.pdf2json.process:Error processing /workspaces/CORD19_Plus/data/rel_pdfs/pdfs_in/6xc98o4b.pdf\n",
      "Traceback (most recent call last):\n",
      "  File \"/workspaces/CORD19_Plus/src/cord19_plus/pdf2json/process.py\", line 61, in process_single_doc\n",
      "    doc = recipe.run(f)\n",
      "  File \"/home/vscode/.local/lib/python3.10/site-packages/papermage/recipes/recipe.py\", line 19, in run\n",
      "    return self.from_pdf(pdf=input)\n",
      "  File \"/home/vscode/.local/lib/python3.10/site-packages/papermage/recipes/core_recipe.py\", line 103, in from_pdf\n",
      "    doc = self.parser.parse(input_pdf_path=pdf)\n",
      "  File \"/home/vscode/.local/lib/python3.10/site-packages/papermage/parsers/pdfplumber_parser.py\", line 251, in parse\n",
      "    doc_json = self._convert_nested_text_to_doc_json(\n",
      "  File \"/home/vscode/.local/lib/python3.10/site-packages/papermage/parsers/pdfplumber_parser.py\", line 316, in _convert_nested_text_to_doc_json\n",
      "    symbols += token_dicts[-1][\"text\"]\n",
      "IndexError: list index out of range\n",
      "ERROR:cord19_plus.pdf2json.process:Error processing /workspaces/CORD19_Plus/data/rel_pdfs/pdfs_in/tl4jdjwv.pdf\n",
      "Traceback (most recent call last):\n",
      "  File \"/workspaces/CORD19_Plus/src/cord19_plus/pdf2json/process.py\", line 61, in process_single_doc\n",
      "    doc = recipe.run(f)\n",
      "  File \"/home/vscode/.local/lib/python3.10/site-packages/papermage/recipes/recipe.py\", line 19, in run\n",
      "    return self.from_pdf(pdf=input)\n",
      "  File \"/home/vscode/.local/lib/python3.10/site-packages/papermage/recipes/core_recipe.py\", line 103, in from_pdf\n",
      "    doc = self.parser.parse(input_pdf_path=pdf)\n",
      "  File \"/home/vscode/.local/lib/python3.10/site-packages/papermage/parsers/pdfplumber_parser.py\", line 251, in parse\n",
      "    doc_json = self._convert_nested_text_to_doc_json(\n",
      "  File \"/home/vscode/.local/lib/python3.10/site-packages/papermage/parsers/pdfplumber_parser.py\", line 316, in _convert_nested_text_to_doc_json\n",
      "    symbols += token_dicts[-1][\"text\"]\n",
      "IndexError: list index out of range\n",
      "ERROR:cord19_plus.pdf2json.process:Error processing /workspaces/CORD19_Plus/data/rel_pdfs/pdfs_in/bzwxt9bq.pdf\n",
      "Traceback (most recent call last):\n",
      "  File \"/workspaces/CORD19_Plus/src/cord19_plus/pdf2json/process.py\", line 61, in process_single_doc\n",
      "    doc = recipe.run(f)\n",
      "  File \"/home/vscode/.local/lib/python3.10/site-packages/papermage/recipes/recipe.py\", line 19, in run\n",
      "    return self.from_pdf(pdf=input)\n",
      "  File \"/home/vscode/.local/lib/python3.10/site-packages/papermage/recipes/core_recipe.py\", line 103, in from_pdf\n",
      "    doc = self.parser.parse(input_pdf_path=pdf)\n",
      "  File \"/home/vscode/.local/lib/python3.10/site-packages/papermage/parsers/pdfplumber_parser.py\", line 251, in parse\n",
      "    doc_json = self._convert_nested_text_to_doc_json(\n",
      "  File \"/home/vscode/.local/lib/python3.10/site-packages/papermage/parsers/pdfplumber_parser.py\", line 316, in _convert_nested_text_to_doc_json\n",
      "    symbols += token_dicts[-1][\"text\"]\n",
      "IndexError: list index out of range\n",
      "WARNING:root:The coordinates (594.7613730052565, 236.14515770646005, 614.0490367645066, 242.0398945264601) are not valid and converted to (594.7613730052565, 236.14515770646005, 595.275, 242.0398945264601).\n",
      "WARNING:root:The coordinates (581.6044035388056, 471.8852105564601, 606.7809559496565, 477.7799473764601) are not valid and converted to (581.6044035388056, 471.8852105564601, 595.275, 477.7799473764601).\n",
      "WARNING:root:The coordinates (608.2546401546565, 471.8852105564601, 612.4988618650565, 477.7799473764601) are not valid and converted to (595.275, 471.8852105564601, 595.275, 477.7799473764601).\n",
      "WARNING:root:The coordinates (613.9725678805826, 471.8852105564601, 633.2602316398327, 477.7799473764601) are not valid and converted to (595.275, 471.8852105564601, 595.275, 477.7799473764601).\n",
      "WARNING:root:The coordinates (581.4099131816401, 488.7273157564601, 600.6975769408903, 494.6220525764601) are not valid and converted to (581.4099131816401, 488.7273157564601, 595.275, 494.6220525764601).\n",
      "WARNING:root:The coordinates (584.1804724975661, 497.1483683564601, 603.4681362568163, 503.0431051764601) are not valid and converted to (584.1804724975661, 497.1483683564601, 595.275, 503.0431051764601).\n",
      "ERROR:cord19_plus.pdf2json.process:Error processing /workspaces/CORD19_Plus/data/rel_pdfs/pdfs_in/p2ahklyl.pdf\n",
      "Traceback (most recent call last):\n",
      "  File \"/workspaces/CORD19_Plus/src/cord19_plus/pdf2json/process.py\", line 61, in process_single_doc\n",
      "    doc = recipe.run(f)\n",
      "  File \"/home/vscode/.local/lib/python3.10/site-packages/papermage/recipes/recipe.py\", line 19, in run\n",
      "    return self.from_pdf(pdf=input)\n",
      "  File \"/home/vscode/.local/lib/python3.10/site-packages/papermage/recipes/core_recipe.py\", line 103, in from_pdf\n",
      "    doc = self.parser.parse(input_pdf_path=pdf)\n",
      "  File \"/home/vscode/.local/lib/python3.10/site-packages/papermage/parsers/pdfplumber_parser.py\", line 251, in parse\n",
      "    doc_json = self._convert_nested_text_to_doc_json(\n",
      "  File \"/home/vscode/.local/lib/python3.10/site-packages/papermage/parsers/pdfplumber_parser.py\", line 338, in _convert_nested_text_to_doc_json\n",
      "    boxes=[Box.create_enclosing_box(boxes=[box for t in row_tokens for box in t.boxes])],\n",
      "  File \"/home/vscode/.local/lib/python3.10/site-packages/papermage/magelib/box.py\", line 150, in create_enclosing_box\n",
      "    raise ValueError(f\"Boxes not all on same page. Pages={unique_pages}\")\n",
      "ValueError: Boxes not all on same page. Pages={1, 3}\n"
     ]
    }
   ],
   "source": [
    "process_docs_parallel(folder_in=\"/workspaces/CORD19_Plus/data/rel_pdfs/pdfs_in\",\n",
    "                      folder_out=\"/workspaces/CORD19_Plus/data/rel_pdfs/pdfs_out\",\n",
    "                      save_images=True,\n",
    "                      max_workers=24, verbose=False)"
   ]
  },
  {
   "cell_type": "code",
   "execution_count": null,
   "metadata": {},
   "outputs": [],
   "source": [
    "!ls"
   ]
  },
  {
   "cell_type": "code",
   "execution_count": null,
   "metadata": {},
   "outputs": [],
   "source": [
    "!python -m cProfile -s cumulative /workspaces/CORD19_Plus/src/cord19_plus/pdf2json/process.py"
   ]
  },
  {
   "cell_type": "code",
   "execution_count": null,
   "metadata": {},
   "outputs": [],
   "source": [
    "from papermage.magelib import Document\n",
    "import json\n",
    "with open(\"/workspaces/CORD19_Plus/data/out/2024-07-23/https:__doi.org_10.1002_bjs.6321.json\", \"r\") as f:\n",
    "    doc_json = json.load(f)\n",
    "    test_doc = Document.from_json(doc_json)\n"
   ]
  }
 ],
 "metadata": {
  "kernelspec": {
   "display_name": "Python 3",
   "language": "python",
   "name": "python3"
  },
  "language_info": {
   "codemirror_mode": {
    "name": "ipython",
    "version": 3
   },
   "file_extension": ".py",
   "mimetype": "text/x-python",
   "name": "python",
   "nbconvert_exporter": "python",
   "pygments_lexer": "ipython3",
   "version": "3.10.15"
  }
 },
 "nbformat": 4,
 "nbformat_minor": 2
}
