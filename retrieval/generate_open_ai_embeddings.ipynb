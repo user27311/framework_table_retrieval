{
 "cells": [
  {
   "cell_type": "code",
   "execution_count": 1,
   "metadata": {},
   "outputs": [
    {
     "name": "stderr",
     "output_type": "stream",
     "text": [
      "/home/vscode/.local/lib/python3.10/site-packages/tqdm/auto.py:21: TqdmWarning: IProgress not found. Please update jupyter and ipywidgets. See https://ipywidgets.readthedocs.io/en/stable/user_install.html\n",
      "  from .autonotebook import tqdm as notebook_tqdm\n",
      "/tmp/ipykernel_1233504/2578765857.py:29: DeprecationWarning: Call to deprecated function (or staticmethod) started. (use pt.java.started() instead) -- Deprecated since version 0.11.0.\n",
      "  if not pt.started():\n",
      "Java started and loaded: pyterrier.java, pyterrier.terrier.java [version=5.10 (build: craigm 2024-08-22 17:33), helper_version=0.0.8]\n",
      "/tmp/ipykernel_1233504/2578765857.py:30: DeprecationWarning: Call to deprecated method pt.init(). Deprecated since version 0.11.0.\n",
      "java is now started automatically with default settings. To force initialisation early, run:\n",
      "pt.java.init() # optional, forces java initialisation\n",
      "  pt.init()\n"
     ]
    }
   ],
   "source": [
    "# get openai embeddings\n",
    "import pyterrier as pt\n",
    "import os\n",
    "from dotenv import load_dotenv\n",
    "from dotenv import dotenv_values\n",
    "\n",
    "from openai import OpenAI\n",
    "from tqdm.auto import tqdm\n",
    "import pandas as pd\n",
    "tqdm.pandas()\n",
    "\n",
    "\n",
    "\n",
    "from concurrent.futures import ThreadPoolExecutor, ProcessPoolExecutor\n",
    "\n",
    "from sqlalchemy import create_engine\n",
    "from sqlalchemy.orm import Session\n",
    "from cord19_plus.data_model.model import Table\n",
    "from cord19_plus.data_model.database_setup import setup_engine_session_alt\n",
    "from cord19_plus.data_model.embeddings import Embedding, Base\n",
    "\n",
    "from retrieval_utils import transform_to_catch_all, get_embedding,get_emb_df, populate_embs_from_result,transform_to_catch_all, num_tokens_from_string\n",
    "\n",
    "load_dotenv(\"/workspaces/CORD19_Plus/.env\")\n",
    "OPENAI_API_KEY = os.environ.get(\"OPENAI_API_KEY\")\n",
    "db_vals = dotenv_values(\"/workspaces/CORD19_Plus/.env\")\n",
    "client = OpenAI()\n",
    "\n",
    "if not pt.started():\n",
    "    pt.init()\n",
    "\n",
    "import logging\n",
    "logging.disable(logging.FATAL + 1)"
   ]
  },
  {
   "cell_type": "code",
   "execution_count": 2,
   "metadata": {},
   "outputs": [],
   "source": [
    "engine = create_engine(f\"postgresql+psycopg2://{db_vals['USER']}:{db_vals['PASSWORD']}@{db_vals['ADDRESS']}:{db_vals['PORT']}/{db_vals['DB_FINAL']}\", echo=False)\n",
    "session = Session(engine)\n",
    "\n",
    "result = session.query(Table)\n",
    "result_dict = [{\"docno\" : str(e.ir_tab_id), \"ir_id\" : e.ir_id, \"table_name\" : e.table_name, \"header\": e.header, \"content\" : e.content, \"caption\" : e.caption, \"references\" : e.references} for e in result]"
   ]
  },
  {
   "cell_type": "code",
   "execution_count": 3,
   "metadata": {},
   "outputs": [
    {
     "name": "stdout",
     "output_type": "stream",
     "text": [
      "26100 Tables already processed\n",
      "3703 Tables to process\n"
     ]
    },
    {
     "name": "stderr",
     "output_type": "stream",
     "text": [
      "Overall Progress: 100%|██████████| 38/38 [06:54<00:00, 10.90s/it]"
     ]
    },
    {
     "name": "stdout",
     "output_type": "stream",
     "text": [
      "Processing and insertion complete.\n"
     ]
    },
    {
     "name": "stderr",
     "output_type": "stream",
     "text": [
      "\n"
     ]
    }
   ],
   "source": [
    "# generate embeddings for all entries in the 'Table' table\n",
    "# populate_embs_from_result(result_dict)"
   ]
  },
  {
   "cell_type": "code",
   "execution_count": 6,
   "metadata": {},
   "outputs": [],
   "source": [
    "#takes about 1 minute\n",
    "emb_df = get_emb_df()\n",
    "emb_df.to_json(\"/workspaces/CORD19_Plus/retrieval/table_embeddings.json\")"
   ]
  },
  {
   "cell_type": "code",
   "execution_count": null,
   "metadata": {},
   "outputs": [],
   "source": [
    "#generate topic embeddings\n",
    "dataset = pt.get_dataset('irds:cord19/fulltext/trec-covid')\n",
    "\n",
    "topics_t = dataset.get_topics('title')\n",
    "topics_d = dataset.get_topics('description')\n",
    "topics_n = dataset.get_topics('narrative')\n",
    "\n",
    "topics_all = dataset.get_topics('title')\n",
    "\n",
    "topics_all['query'] = topics_all.apply(lambda row: f\"{topics_t.loc[int(row['qid'])-1]['query']}. {topics_d.loc[int(row['qid'])-1]['query']}. {topics_n.loc[int(row['qid'])-1]['query']}\", axis=1)"
   ]
  },
  {
   "cell_type": "code",
   "execution_count": null,
   "metadata": {},
   "outputs": [],
   "source": [
    "topic_embs = []\n",
    "\n",
    "with tqdm(total=len(topics_all)) as pbar:\n",
    "    for _, row in tqdm(topics_all.iterrows()):\n",
    "        qid = row['qid']\n",
    "        query = row['query']\n",
    "\n",
    "        topic_embs.append({'qid' : qid, 'emb' : get_embedding(query)})\n",
    "        pbar.update()"
   ]
  },
  {
   "cell_type": "code",
   "execution_count": null,
   "metadata": {},
   "outputs": [],
   "source": [
    "df_queries = pd.DataFrame(topic_embs)\n",
    "df_queries.to_json(\"/workspaces/CORD19_Plus/retrieval/query_embeddings.json\", index=False)"
   ]
  },
  {
   "cell_type": "code",
   "execution_count": null,
   "metadata": {},
   "outputs": [],
   "source": [
    "df_queries = pd.read_json(\"/workspaces/CORD19_Plus/retrieval/query_embeddings.json\")"
   ]
  }
 ],
 "metadata": {
  "kernelspec": {
   "display_name": "Python 3",
   "language": "python",
   "name": "python3"
  },
  "language_info": {
   "codemirror_mode": {
    "name": "ipython",
    "version": 3
   },
   "file_extension": ".py",
   "mimetype": "text/x-python",
   "name": "python",
   "nbconvert_exporter": "python",
   "pygments_lexer": "ipython3",
   "version": "3.10.15"
  }
 },
 "nbformat": 4,
 "nbformat_minor": 2
}
