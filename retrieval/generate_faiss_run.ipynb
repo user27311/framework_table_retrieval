{
 "cells": [
  {
   "cell_type": "code",
   "execution_count": null,
   "metadata": {},
   "outputs": [],
   "source": [
    "import pandas as pd\n",
    "import os\n",
    "import numpy as np\n",
    "from dotenv import load_dotenv\n",
    "\n",
    "\n",
    "import pyterrier as pt\n",
    "from tqdm import tqdm\n",
    "import numpy as np\n",
    "tqdm.pandas()\n",
    "\n",
    "from retrieval_utils import faiss_search_pipe, build_faiss_index, apply_cutoff\n",
    "\n",
    "if not pt.started():\n",
    "    pt.init()\n",
    "\n",
    "load_dotenv(\"/workspace/.env\")\n",
    "OPENAI_API_KEY = os.environ.get(\"OPENAI_API_KEY\")\n",
    "\n",
    "dataset = pt.get_dataset('irds:cord19/fulltext/trec-covid')"
   ]
  },
  {
   "cell_type": "code",
   "execution_count": null,
   "metadata": {},
   "outputs": [],
   "source": [
    "topics_t = dataset.get_topics('title')\n",
    "topics_d = dataset.get_topics('description')\n",
    "topics_n = dataset.get_topics('narrative')\n",
    "\n",
    "topics_all = dataset.get_topics('title')\n",
    "\n",
    "topics_all['query'] = topics_all.apply(lambda row: f\"{topics_t.loc[int(row['qid'])-1]['query']}. {topics_d.loc[int(row['qid'])-1]['query']}. {topics_n.loc[int(row['qid'])-1]['query']}\", axis=1)"
   ]
  },
  {
   "cell_type": "code",
   "execution_count": null,
   "metadata": {},
   "outputs": [],
   "source": [
    "query_embs = pd.read_json(\"/workspaces/CORD19_Plus/retrieval/query_embeddings.json\")\n",
    "queries = query_embs.emb.tolist()\n",
    "queries = np.array(queries)\n",
    "queries = queries.astype(\"float32\")"
   ]
  },
  {
   "cell_type": "code",
   "execution_count": null,
   "metadata": {},
   "outputs": [],
   "source": [
    "df = pd.read_json(\"/workspaces/CORD19_Plus/retrieval/table_embeddings.json\")\n",
    "df = df.dropna().reset_index(drop=True)"
   ]
  },
  {
   "cell_type": "code",
   "execution_count": null,
   "metadata": {},
   "outputs": [],
   "source": [
    "index = build_faiss_index(df)"
   ]
  },
  {
   "cell_type": "code",
   "execution_count": null,
   "metadata": {},
   "outputs": [],
   "source": [
    "res = faiss_search_pipe(index, queries, df)"
   ]
  },
  {
   "cell_type": "code",
   "execution_count": null,
   "metadata": {},
   "outputs": [],
   "source": [
    "res = apply_cutoff(res)"
   ]
  },
  {
   "cell_type": "code",
   "execution_count": null,
   "metadata": {},
   "outputs": [],
   "source": [
    "qrels_path = \"/workspaces/CORD19_Plus/data/clean/table_qrels.json\"\n",
    "qrels = pd.read_json(qrels_path)\n",
    "\n",
    "qrels['qid'] = qrels['qid'].astype(str)\n",
    "qrels['docno'] = qrels['docno'].apply(lambda row: row.replace(\".json\", \"\"))\n",
    "table_qrels = qrels"
   ]
  },
  {
   "cell_type": "code",
   "execution_count": null,
   "metadata": {},
   "outputs": [],
   "source": [
    "pt.Experiment(\n",
    "    [res],\n",
    "    topics_all,\n",
    "    qrels,\n",
    "    eval_metrics=['P_10', 'P_20', 'map', 'ndcg_cut_10','ndcg_cut_50','recall_100', 'mrt']\n",
    ")"
   ]
  },
  {
   "cell_type": "code",
   "execution_count": null,
   "metadata": {},
   "outputs": [],
   "source": [
    "pt.io.write_results(res, f'{\"/workspaces/CORD19_Plus/retrieval/rankings\"}/text-embedding-3-small.trec', format='trec', run_name=\"text-embedding-3-small\")"
   ]
  }
 ],
 "metadata": {
  "kernelspec": {
   "display_name": "Python 3",
   "language": "python",
   "name": "python3"
  },
  "language_info": {
   "codemirror_mode": {
    "name": "ipython",
    "version": 3
   },
   "file_extension": ".py",
   "mimetype": "text/x-python",
   "name": "python",
   "nbconvert_exporter": "python",
   "pygments_lexer": "ipython3",
   "version": "3.10.15"
  }
 },
 "nbformat": 4,
 "nbformat_minor": 2
}
