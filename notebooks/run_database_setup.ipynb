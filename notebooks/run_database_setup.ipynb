{
 "cells": [
  {
   "cell_type": "code",
   "execution_count": null,
   "metadata": {},
   "outputs": [],
   "source": [
    "import json\n",
    "import glob\n",
    "\n",
    "\n",
    "from dotenv import dotenv_values\n",
    "from concurrent.futures import ThreadPoolExecutor, as_completed, TimeoutError\n",
    "import threading\n",
    "from tqdm import tqdm\n",
    "import pickle\n",
    "import copyreg\n",
    "import types\n",
    "import functools\n",
    "import multiprocessing\n",
    "\n",
    "from concurrent.futures import ProcessPoolExecutor\n",
    "\n",
    "import os\n",
    "import shutil\n",
    "\n",
    "from papermage.recipes import CoreRecipe\n",
    "from papermage.magelib import Document\n",
    "\n",
    "import sqlalchemy\n",
    "from sqlalchemy import create_engine\n",
    "\n",
    "from  cord19_plus.data_model.database_setup import *\n",
    "\n",
    "import logging\n",
    "\n",
    "# Set the logging level to a value higher than CRITICAL to suppress all logs\n",
    "logging.disable(logging.FATAL + 1)"
   ]
  },
  {
   "cell_type": "code",
   "execution_count": null,
   "metadata": {},
   "outputs": [],
   "source": [
    "from cord19_plus.data_model.database_setup import setup_engine_session\n",
    "from cord19_plus.data_model import model  \n",
    "\n",
    "db_vals = dotenv_values(\"/workspaces/CORD19_Plus/.env\")\n",
    "\n",
    "session = setup_engine_session(db_vals['USER'], db_vals['PASSWORD'], db_vals['ADDRESS'], db_vals['PORT'], db_vals['DB'])\n",
    "results = session.query(model.Table).all()"
   ]
  },
  {
   "cell_type": "code",
   "execution_count": null,
   "metadata": {},
   "outputs": [],
   "source": [
    "root_parse_path = \"/workspaces/CORD19_Plus/data/clean/pub_json2/*.json\"\n",
    "table_root_path = \"/workspaces/CORD19_Plus/data/clean/tab_json2\"\n",
    "json_paths = sorted(glob.glob(root_parse_path))[:500]\n"
   ]
  },
  {
   "cell_type": "code",
   "execution_count": null,
   "metadata": {},
   "outputs": [],
   "source": [
    "paths = sort_paths_by_file_size(json_paths)"
   ]
  },
  {
   "cell_type": "code",
   "execution_count": null,
   "metadata": {},
   "outputs": [],
   "source": [
    "# Fix for pickling instance methods\n",
    "def _pickle_method(method):\n",
    "    func_name = method.__func__.__name__\n",
    "    obj = method.__self__\n",
    "    cls = method.__self__.__class__\n",
    "    return getattr, (obj, func_name)\n",
    "\n",
    "copyreg.pickle(types.MethodType, _pickle_method)\n",
    "\n",
    "# Moved extract_data function outside the parallel_extract_data function\n",
    "def extract_data(json_path, table_root_path):\n",
    "    if os.path.isdir(json_path):\n",
    "        raise IsADirectoryError(f\"Expected a file but found a directory: {json_path}\")\n",
    "    return extract_data_from_json(json_path, table_root_path)\n",
    "\n",
    "if __name__ == \"__main__\":\n",
    "    def parallel_extract_data(json_paths, table_root_path, model, session, num_workers=None):\n",
    "        # Set multiprocessing context to 'spawn' to avoid issues on some platforms\n",
    "        ctx = multiprocessing.get_context(\"spawn\")\n",
    "        with tqdm(total=len(json_paths)) as pbar:\n",
    "            i = 0\n",
    "            while i < len(json_paths):\n",
    "                batch_end = min(i + 100, len(json_paths))\n",
    "                batch_paths = json_paths[i:batch_end]\n",
    "\n",
    "                with ProcessPoolExecutor(max_workers=num_workers, mp_context=ctx) as executor:\n",
    "                    extract_data_partial = functools.partial(extract_data, table_root_path)\n",
    "                    data_batch = list(tqdm(executor.map(extract_data_partial, batch_paths), total=len(batch_paths), desc=\"Extracting data\", leave=False))\n",
    "\n",
    "                for data in tqdm(data_batch, desc=\"Preparing session\", leave=False):\n",
    "                    create_model_objects(data, model, session)\n",
    "\n",
    "                session.commit()\n",
    "                i += 100"
   ]
  },
  {
   "cell_type": "code",
   "execution_count": null,
   "metadata": {},
   "outputs": [],
   "source": [
    "parallel_extract_data(table_root_path,json_paths, model, session, num_workers=4)"
   ]
  }
 ],
 "metadata": {
  "kernelspec": {
   "display_name": "Python 3",
   "language": "python",
   "name": "python3"
  },
  "language_info": {
   "codemirror_mode": {
    "name": "ipython",
    "version": 3
   },
   "file_extension": ".py",
   "mimetype": "text/x-python",
   "name": "python",
   "nbconvert_exporter": "python",
   "pygments_lexer": "ipython3",
   "version": "3.10.15"
  },
  "orig_nbformat": 4
 },
 "nbformat": 4,
 "nbformat_minor": 2
}
