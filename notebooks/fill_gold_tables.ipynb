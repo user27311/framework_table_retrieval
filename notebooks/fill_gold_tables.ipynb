{
 "cells": [
  {
   "cell_type": "code",
   "execution_count": 1,
   "metadata": {},
   "outputs": [
    {
     "name": "stderr",
     "output_type": "stream",
     "text": [
      "/workspaces/CORD19_Plus/.venv/lib/python3.10/site-packages/tqdm/auto.py:21: TqdmWarning: IProgress not found. Please update jupyter and ipywidgets. See https://ipywidgets.readthedocs.io/en/stable/user_install.html\n",
      "  from .autonotebook import tqdm as notebook_tqdm\n",
      "/workspaces/CORD19_Plus/.venv/lib/python3.10/site-packages/smashed/utils/warnings.py:27: RuntimeWarning: smashed.interfaces.simple is deprecated; import from smashed.mappers instead.\n",
      "  cls._warn(message, RuntimeWarning)\n"
     ]
    }
   ],
   "source": [
    "import sqlalchemy\n",
    "from sqlalchemy import create_engine\n",
    "from sqlalchemy.orm import Session\n",
    "\n",
    "import pandas as pd\n",
    "import random\n",
    "\n",
    "import pyterrier as pt\n",
    "#if not pt.started():\n",
    "#   pt.init()\n",
    "\n",
    "from cord19_plus.data_model.model import Table\n",
    "from cord19_plus.data_model.model_gold import GoldTable\n",
    "\n",
    "from dotenv import dotenv_values\n",
    "from cord19_plus.data_model.database_setup import create_engine\n",
    "\n",
    "from cord19_plus.data_model.model_gold import Base\n",
    "\n",
    "db_vals = dotenv_values(\"/workspaces/CORD19_Plus/src/cord19_plus/data_model/cord19.env\")"
   ]
  },
  {
   "cell_type": "code",
   "execution_count": null,
   "metadata": {},
   "outputs": [],
   "source": [
    "engine = create_engine(f\"postgresql+psycopg2://{db_vals['USER']}:{db_vals['PASSWORD']}@{db_vals['ADDRESS']}:{db_vals['PORT']}/{db_vals['DB']}\", echo=False)\n",
    "session = Session(engine)"
   ]
  },
  {
   "cell_type": "code",
   "execution_count": 2,
   "metadata": {},
   "outputs": [],
   "source": [
    "engine_gold = create_engine(f\"postgresql+psycopg2://{db_vals['USER']}:{db_vals['PASSWORD']}@{db_vals['ADDRESS']}:{db_vals['PORT']}/gold_tables\", echo=False)\n",
    "#Base.metadata.create_all(engine_gold)\n",
    "\n",
    "session_gold = Session(engine_gold)\n"
   ]
  },
  {
   "cell_type": "code",
   "execution_count": null,
   "metadata": {},
   "outputs": [],
   "source": [
    "result = session.query(Table)\n",
    "#result_dict = [{\"docno\" : str(e.id), \"ir_id\" : e.ir_id, \"content\" : e.content, \"content_json\" : e.content_json} for e in result]\n",
    "\n",
    "result_dict = [{\"docno\" : str(e.ir_tab_id), \"ir_id\" : e.ir_id, \"content\" : e.content, \"content_json\" : e.content_json, \"caption\" : e.caption} for e in result]"
   ]
  },
  {
   "cell_type": "code",
   "execution_count": null,
   "metadata": {},
   "outputs": [],
   "source": [
    "dataset = pt.get_dataset('irds:cord19/fulltext/trec-covid')\n",
    "qrels = dataset.get_qrels()\n",
    "qrels = qrels[qrels['qid'] == \"1\"]"
   ]
  },
  {
   "cell_type": "code",
   "execution_count": null,
   "metadata": {},
   "outputs": [],
   "source": [
    "avail_ids = set([entry['ir_id'] for entry in result_dict])\n",
    "avail_tab_ids = list(set([entry['docno'] for entry in result_dict]))\n",
    "num_tables = {idx: len([entry for entry in result_dict if entry['ir_id'] == idx]) for idx in avail_ids}\n",
    "qrels = qrels[qrels['docno'].isin(avail_ids)]"
   ]
  },
  {
   "cell_type": "code",
   "execution_count": null,
   "metadata": {},
   "outputs": [],
   "source": [
    "count_df = pd.DataFrame({\"docno\": num_tables.keys(), \"count\": num_tables.values()})"
   ]
  },
  {
   "cell_type": "code",
   "execution_count": null,
   "metadata": {},
   "outputs": [],
   "source": [
    "qrels = qrels.merge(count_df)"
   ]
  },
  {
   "cell_type": "code",
   "execution_count": null,
   "metadata": {},
   "outputs": [],
   "source": [
    "def annotation_set(avail_tab_ids, qrels, size=10):\n",
    "    print(len(avail_tab_ids))\n",
    "    random.shuffle(avail_tab_ids)\n",
    "    annotation_set = {0:[], 1:[], 2:[]}\n",
    "\n",
    "    for tab_id in avail_tab_ids:\n",
    "         label = qrels[qrels['docno'] == tab_id.split(\"_\")[0]].label.item()\n",
    "         if len(annotation_set[label]) < size:\n",
    "            annotation_set[label].append(tab_id)\n",
    "            avail_tab_ids.remove(tab_id)\n",
    "    print(len(avail_tab_ids))\n",
    "    return annotation_set"
   ]
  },
  {
   "cell_type": "code",
   "execution_count": null,
   "metadata": {},
   "outputs": [],
   "source": [
    "a1_annotation_set = annotation_set(avail_tab_ids, qrels)\n",
    "a2_annotation_set = annotation_set(avail_tab_ids, qrels)"
   ]
  },
  {
   "cell_type": "code",
   "execution_count": null,
   "metadata": {},
   "outputs": [],
   "source": [
    "#tables_to_commit = session.query(Table).filter(Table.ir_tab_id.in_(set(bjoern_annotation_set[0]))).all()"
   ]
  },
  {
   "cell_type": "code",
   "execution_count": null,
   "metadata": {},
   "outputs": [],
   "source": [
    "#tables_to_commit"
   ]
  },
  {
   "cell_type": "code",
   "execution_count": null,
   "metadata": {},
   "outputs": [],
   "source": [
    "def commit_gold_tables(annotation_set, name, session, session_gold):\n",
    "    \"\"\"\n",
    "    Commits the given gold tables to the database. \n",
    "    Args:\n",
    "        annotation_set (AnnotationSet): The annotation set to be committed.\n",
    "    \"\"\"\n",
    "    annotation_ids = []\n",
    "    for sub_list in annotation_set.values():\n",
    "        annotation_ids += sub_list\n",
    "\n",
    "\n",
    "    tables_to_commit = session.query(Table).filter(Table.ir_tab_id.in_(set(annotation_ids))).all()\n",
    "    table: Table\n",
    "    for table in tables_to_commit: \n",
    "        t = GoldTable(content=table.content,\n",
    "                      ir_tab_id = table.ir_tab_id,\n",
    "                      ir_id=table.ir_id,\n",
    "                      content_json=table.content_json,\n",
    "                      caption= table.caption,\n",
    "                      position_left = table.position_left,\n",
    "                      position_top = table.position_top,\n",
    "                      position_page = table.position_page,\n",
    "                      width =table.width,\n",
    "                      height = table.height,\n",
    "                        # proxy references\n",
    "                      references=[\"d1\", \"d2\", \"d3\"],\n",
    "                      annotator_name = name)\n",
    "                      \n",
    "        session_gold.add(t)\n",
    "    session_gold.commit()"
   ]
  },
  {
   "cell_type": "code",
   "execution_count": null,
   "metadata": {},
   "outputs": [],
   "source": [
    "commit_gold_tables(a1_annotation_set, \"Annotator 1\" ,session, session_gold)"
   ]
  },
  {
   "cell_type": "code",
   "execution_count": null,
   "metadata": {},
   "outputs": [],
   "source": [
    "commit_gold_tables(a2_annotation_set, \"Annotator 2\" ,session, session_gold)"
   ]
  },
  {
   "cell_type": "code",
   "execution_count": null,
   "metadata": {},
   "outputs": [],
   "source": [
    "#get pdfs\n",
    "\n",
    "engine_gold = create_engine(f\"postgresql+psycopg2://{db_vals['USER']}:{db_vals['PASSWORD']}@{db_vals['ADDRESS']}:{db_vals['PORT']}/gold_tables\", echo=False)\n",
    "#Base.metadata.create_all(engine_gold)\n",
    "\n",
    "session_gold = Session(engine_gold)"
   ]
  },
  {
   "cell_type": "code",
   "execution_count": 3,
   "metadata": {},
   "outputs": [],
   "source": [
    "tables = session_gold.query(GoldTable)"
   ]
  },
  {
   "cell_type": "code",
   "execution_count": 5,
   "metadata": {},
   "outputs": [],
   "source": [
    "t_ids = [t.ir_id for t in tables]"
   ]
  },
  {
   "cell_type": "code",
   "execution_count": 9,
   "metadata": {},
   "outputs": [],
   "source": [
    "files = [f\"{t_id}.pdf\" for t_id in set(t_ids)]"
   ]
  },
  {
   "cell_type": "code",
   "execution_count": 11,
   "metadata": {},
   "outputs": [
    {
     "data": {
      "text/plain": [
       "['kjovtgua.pdf',\n",
       " 'w7ej6jfg.pdf',\n",
       " 'k2juhyex.pdf',\n",
       " 'zk44e4qy.pdf',\n",
       " 'lxakf79k.pdf',\n",
       " '1aal6njl.pdf',\n",
       " '51w1fe7k.pdf',\n",
       " '8ow952d8.pdf',\n",
       " 'hib30ct6.pdf',\n",
       " 'qele28zk.pdf',\n",
       " 'w0pbk3kv.pdf',\n",
       " 'cyp9fbw0.pdf',\n",
       " 'zdv0ilti.pdf',\n",
       " '4ihv80au.pdf',\n",
       " 'd3rrnjz2.pdf',\n",
       " '8arwlhf0.pdf',\n",
       " 'eav5gr3y.pdf',\n",
       " 'v08cs51n.pdf',\n",
       " '8hiurkho.pdf',\n",
       " '50oy9qqy.pdf',\n",
       " 'e6jt8yhs.pdf',\n",
       " 'aeyf0yu1.pdf',\n",
       " 'd8n9711b.pdf',\n",
       " 'rmmp3gms.pdf',\n",
       " 'qyg8hn56.pdf',\n",
       " 'kzk4i2j2.pdf',\n",
       " 'tsje2x90.pdf',\n",
       " 'x9bxnrtn.pdf',\n",
       " 'b2znv6pa.pdf',\n",
       " 'dbowa5bt.pdf',\n",
       " 'bojfc3q0.pdf',\n",
       " '08ds967z.pdf',\n",
       " 'qeehgxa1.pdf',\n",
       " 'unvabosp.pdf',\n",
       " 'jgwvjkbj.pdf',\n",
       " 'ik15f074.pdf',\n",
       " 'zqf351sv.pdf',\n",
       " 'uexahhdr.pdf',\n",
       " '1s6dlcer.pdf',\n",
       " 'jljjqs6m.pdf',\n",
       " 'a56u5e2o.pdf',\n",
       " 'zu46bdpu.pdf',\n",
       " '9slpoyz7.pdf',\n",
       " 'i758v1vb.pdf',\n",
       " 'iy4knx7j.pdf',\n",
       " 'fcmzdcuh.pdf']"
      ]
     },
     "execution_count": 11,
     "metadata": {},
     "output_type": "execute_result"
    }
   ],
   "source": [
    "files"
   ]
  }
 ],
 "metadata": {
  "kernelspec": {
   "display_name": "Python 3",
   "language": "python",
   "name": "python3"
  },
  "language_info": {
   "codemirror_mode": {
    "name": "ipython",
    "version": 3
   },
   "file_extension": ".py",
   "mimetype": "text/x-python",
   "name": "python",
   "nbconvert_exporter": "python",
   "pygments_lexer": "ipython3",
   "version": "3.10.14"
  }
 },
 "nbformat": 4,
 "nbformat_minor": 2
}
