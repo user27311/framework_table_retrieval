{
 "cells": [
  {
   "cell_type": "code",
   "execution_count": 1,
   "id": "initial_id",
   "metadata": {
    "ExecuteTime": {
     "end_time": "2024-05-13T09:49:31.457583865Z",
     "start_time": "2024-05-13T09:49:31.452967887Z"
    }
   },
   "outputs": [
    {
     "name": "stderr",
     "output_type": "stream",
     "text": [
      "/workspaces/CORD19_Plus/.venv/lib/python3.10/site-packages/tqdm/auto.py:21: TqdmWarning: IProgress not found. Please update jupyter and ipywidgets. See https://ipywidgets.readthedocs.io/en/stable/user_install.html\n",
      "  from .autonotebook import tqdm as notebook_tqdm\n",
      "/workspaces/CORD19_Plus/.venv/lib/python3.10/site-packages/smashed/utils/warnings.py:27: RuntimeWarning: smashed.interfaces.simple is deprecated; import from smashed.mappers instead.\n",
      "  cls._warn(message, RuntimeWarning)\n",
      "WARNING:root:No Wiley-TDM-Client-Token found in .env. Requests to the wiley API will not be possible\n"
     ]
    }
   ],
   "source": [
    "from cord19_plus.pdf2json.process import process_docs"
   ]
  },
  {
   "cell_type": "code",
   "execution_count": null,
   "id": "dba7f6c6127a64f",
   "metadata": {
    "ExecuteTime": {
     "end_time": "2024-05-13T09:49:32.187090336Z",
     "start_time": "2024-05-13T09:49:32.170456916Z"
    },
    "collapsed": false
   },
   "outputs": [],
   "source": [
    "process_docs(folder_in=\"../pdfs\", folder_out=\"../out\", save_images=True)"
   ]
  }
 ],
 "metadata": {
  "kernelspec": {
   "display_name": "Python 3 (ipykernel)",
   "language": "python",
   "name": "python3"
  },
  "language_info": {
   "codemirror_mode": {
    "name": "ipython",
    "version": 3
   },
   "file_extension": ".py",
   "mimetype": "text/x-python",
   "name": "python",
   "nbconvert_exporter": "python",
   "pygments_lexer": "ipython3",
   "version": "3.10.14"
  }
 },
 "nbformat": 4,
 "nbformat_minor": 5
}
