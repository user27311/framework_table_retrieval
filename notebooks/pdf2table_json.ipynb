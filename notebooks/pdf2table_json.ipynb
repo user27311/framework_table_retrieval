{
 "cells": [
  {
   "cell_type": "code",
   "execution_count": null,
   "metadata": {},
   "outputs": [],
   "source": [
    "import glob\n",
    "import os\n",
    "from langchain import PromptTemplate\n",
    "from langchain.schema.output_parser import StrOutputParser\n",
    "from langchain_openai import ChatOpenAI\n",
    "from langchain_core.messages import HumanMessage\n",
    "from dotenv import load_dotenv\n",
    "from langchain_core.output_parsers import JsonOutputParser\n",
    "\n",
    "import base64\n",
    "import requests\n",
    "import pandas as pd\n",
    "from tqdm import tqdm\n",
    "import json\n",
    "import pickle\n",
    "\n",
    "from pydantic import BaseModel"
   ]
  },
  {
   "cell_type": "code",
   "execution_count": null,
   "metadata": {},
   "outputs": [],
   "source": [
    "class TableSchema(BaseModel):\n",
    "    \n",
    "    header: list[str]\n",
    "    content: list[list[str]]"
   ]
  },
  {
   "cell_type": "code",
   "execution_count": null,
   "metadata": {},
   "outputs": [],
   "source": [
    "def encode_image(image_path):\n",
    "  with open(image_path, \"rb\") as image_file:\n",
    "    return base64.b64encode(image_file.read()).decode('utf-8')\n",
    "  \n",
    "def get_pic_name_by_path(path):\n",
    "  return path.split(\"/\")[-1].split(\".\")[0]"
   ]
  },
  {
   "cell_type": "code",
   "execution_count": null,
   "metadata": {},
   "outputs": [],
   "source": [
    "load_dotenv(\"/workspaces/CORD19_Plus/.env\")\n",
    "OPENAI_API_KEY = os.environ.get(\"OPENAI_API_KEY\")"
   ]
  },
  {
   "cell_type": "code",
   "execution_count": null,
   "metadata": {},
   "outputs": [],
   "source": [
    "#model = \"gpt-4o\"\n",
    "model = \"gpt-4o-mini\"\n",
    "\n",
    "input_path = \"/workspaces/CORD19_Plus/data/clean/tab_img2/\"\n",
    "\n",
    "root_parse_path = \"/workspaces/CORD19_Plus/data/clean/pub_json2/*.json\"\n",
    "table_root_path = \"/workspaces/CORD19_Plus/data/clean/tab_json2\"\n",
    "json_paths = sorted(glob.glob(root_parse_path))\n",
    "\n",
    "#input_pics = sorted(glob.glob(input_path))\n",
    "llm = ChatOpenAI(model = model, response_format=TableSchema)\n",
    "parser = JsonOutputParser()"
   ]
  },
  {
   "cell_type": "code",
   "execution_count": null,
   "metadata": {},
   "outputs": [],
   "source": [
    "input_pics = []\n",
    "for path in tqdm(json_paths):\n",
    "    file_name = path.split(\"/\")[-1].replace(\".json\", \"\")\n",
    "    input_pics += glob.glob(f\"{input_path}{file_name}*\")"
   ]
  },
  {
   "cell_type": "code",
   "execution_count": null,
   "metadata": {},
   "outputs": [],
   "source": [
    "def process_image(pic, llm, parser, prompt, path_to_safe = table_root_path):\n",
    "\n",
    "    #check if json extraction already exists\n",
    "    name = get_pic_name_by_path(pic)\n",
    "    if os.path.exists(f'{path_to_safe}/{name}.json'):\n",
    "        with open(f'{path_to_safe}/{name}.json', 'r') as json_file:\n",
    "            parsed_res = json.load(json_file)\n",
    "            return parsed_res\n",
    "\n",
    "    base64_image = encode_image(pic)\n",
    "    res = llm.invoke(\n",
    "        [\n",
    "            HumanMessage(\n",
    "                content=[\n",
    "                    {\"type\": \"text\", \"text\": prompt},\n",
    "                    {\n",
    "                        \"type\": \"image_url\",\n",
    "                        \"image_url\": {\n",
    "                            \"url\": f\"data:image/jpeg;base64,{base64_image}\"\n",
    "                        }\n",
    "                    }\n",
    "                ]\n",
    "            )\n",
    "        ]\n",
    "    )\n",
    "    parsed_res = parser.parse(res.content)\n",
    "    \n",
    "    #pickle.dump(parsed_res, open(f\"{path_to_safe}/{name}\", \"wb\"))\n",
    "\n",
    "    with open(f'{path_to_safe}/{name}.json', 'w') as json_file:\n",
    "        json.dump(parsed_res, json_file, indent=4)\n",
    "\n",
    "    return parsed_res"
   ]
  },
  {
   "cell_type": "code",
   "execution_count": null,
   "metadata": {},
   "outputs": [],
   "source": [
    "import concurrent.futures\n",
    "from tqdm import tqdm\n",
    "\n",
    "results = []\n",
    "max_workers = 60\n",
    "\n",
    "prompt= \"\"\"\n",
    "The input contains a picture of a table. \n",
    "I want you to parse the table and return a json representation of it.\n",
    "Just return the json without any surrounding text.\n",
    "\"\"\"\n",
    "\n",
    "prompt = \"\"\"\n",
    "You are an expert at extracting textual and tabular data from an image. \n",
    "You will be given an image that originates from a research paper, and you should parse all information from the table without surrounding text.\n",
    "Return all information to the given structure.\n",
    "\"\"\"\n",
    "\n",
    "with concurrent.futures.ThreadPoolExecutor(max_workers=max_workers) as executor:\n",
    "    \n",
    "    # schedules the calls for every pic\n",
    "    futures = {executor.submit(process_image, pic, llm, parser, prompt): pic for pic in input_pics}\n",
    "    print(f\"{len(futures)} tasks started\")\n",
    "\n",
    "\n",
    "    with tqdm(total=len(futures)) as pbar:\n",
    "        # aggregate the results\n",
    "        for future in concurrent.futures.as_completed(futures):\n",
    "            \n",
    "            try:\n",
    "                result = future.result()\n",
    "                results.append(result)\n",
    "            except Exception as e:\n",
    "                print(f\"There was an error: {e}\")\n",
    "            \n",
    "            pbar.update()"
   ]
  }
 ],
 "metadata": {
  "kernelspec": {
   "display_name": "Python 3",
   "language": "python",
   "name": "python3"
  },
  "language_info": {
   "codemirror_mode": {
    "name": "ipython",
    "version": 3
   },
   "file_extension": ".py",
   "mimetype": "text/x-python",
   "name": "python",
   "nbconvert_exporter": "python",
   "pygments_lexer": "ipython3",
   "version": "3.10.15"
  }
 },
 "nbformat": 4,
 "nbformat_minor": 2
}
