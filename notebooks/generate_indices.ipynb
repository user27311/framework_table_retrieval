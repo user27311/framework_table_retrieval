{
 "cells": [
  {
   "cell_type": "code",
   "execution_count": 4,
   "metadata": {},
   "outputs": [
    {
     "name": "stderr",
     "output_type": "stream",
     "text": [
      "/tmp/ipykernel_189216/3307725985.py:14: DeprecationWarning: Call to deprecated function (or staticmethod) started. (use pt.java.started() instead) -- Deprecated since version 0.11.0.\n",
      "  if not pt.started():\n"
     ]
    }
   ],
   "source": [
    "import sys\n",
    "\n",
    "import json\n",
    "import pyterrier as pt\n",
    "\n",
    "from dotenv import dotenv_values\n",
    "import sqlalchemy\n",
    "\n",
    "import pandas as pd\n",
    "from sqlalchemy import create_engine\n",
    "from sqlalchemy.orm import Session\n",
    "import sys\n",
    "\n",
    "if not pt.started():\n",
    "    pt.init()\n",
    "\n",
    "db_vals = dotenv_values(\"/workspaces/CORD19_Plus/.env\")\n",
    "\n",
    "from cord19_plus.data_model.model import Document\n",
    "from cord19_plus.data_model.model import Table\n"
   ]
  },
  {
   "cell_type": "code",
   "execution_count": 5,
   "metadata": {},
   "outputs": [],
   "source": [
    "#check available docs\n",
    "avail_ids = []\n",
    "\n",
    "with open('/workspaces/CORD19_Plus/data/index.jsonl', 'r') as file:\n",
    "    for line in file:\n",
    "\n",
    "        json_obj = json.loads(line.strip())\n",
    "        avail_ids.append(json_obj['pdf_path'].split('.')[0])\n"
   ]
  },
  {
   "cell_type": "code",
   "execution_count": 6,
   "metadata": {},
   "outputs": [],
   "source": [
    "dataset = pt.get_dataset('irds:cord19/fulltext/trec-covid')"
   ]
  },
  {
   "cell_type": "code",
   "execution_count": 7,
   "metadata": {},
   "outputs": [],
   "source": [
    "engine = create_engine(f\"postgresql+psycopg2://{db_vals['USER']}:{db_vals['PASSWORD']}@{db_vals['ADDRESS']}:{db_vals['PORT']}/{db_vals['DB']}\", echo=False)\n",
    "session = Session(engine)"
   ]
  },
  {
   "cell_type": "code",
   "execution_count": 8,
   "metadata": {},
   "outputs": [],
   "source": [
    "result = session.query(Table)\n",
    "#result_dict = [{\"docno\" : str(e.id), \"ir_id\" : e.ir_id, \"content\" : e.content, \"content_json\" : e.content_json} for e in result]\n",
    "\n",
    "result_dict = [{\"docno\" : str(e.ir_tab_id), \"ir_id\" : e.ir_id, \"header\": e.header, \"content\" : e.content, \"caption\" : e.caption, \"references\" : e.references} for e in result]"
   ]
  },
  {
   "cell_type": "code",
   "execution_count": null,
   "metadata": {},
   "outputs": [],
   "source": [
    "import json\n",
    "def map_content_json_to_string(result_dict):\n",
    "    for i in range(len(result_dict)):\n",
    "        if isinstance(result_dict[i]['content_json'], dict):\n",
    "            result_dict[i]['content_json'] = dict_to_string(result_dict[i][\"content_json\"])\n",
    "        \n",
    "def dict_to_string(d, indent=0):\n",
    "    \"\"\"\n",
    "    Recursively converts a nested dictionary into a string representation.\n",
    "    \n",
    "    :param d: Dictionary to convert to a string.\n",
    "    :param indent: Current level of indentation for nested dictionaries.\n",
    "    :return: String representation of the dictionary.\n",
    "    \"\"\"\n",
    "    result = \"\"\n",
    "    indent_str = \"  \" * indent\n",
    "    for key, value in d.items():\n",
    "        if isinstance(value, dict):\n",
    "            result += f\"{indent_str}{key}:\\n\" + dict_to_string(value, indent + 1)\n",
    "        else:\n",
    "            result += f\"{indent_str}{key}: {value}\\n\"\n",
    "    return result\n",
    "\n",
    "def load_table_qrels(path):\n",
    "    \"\"\"\n",
    "    Loads a table qrels file into a pandas DataFrame.\n",
    "\n",
    "    :param path: Path to the table qrels file.\n",
    "    :return: DataFrame containing the table qrels data.\n",
    "    \"\"\"\n",
    "    entries = []\n",
    "    with open(path, 'r') as f:\n",
    "        lines = f.readlines()\n",
    "        for entry in lines:\n",
    "            entries.append(entry.rstrip().split(\" \"))\n",
    "    \n",
    "    qrels = pd.DataFrame(entries, columns=[\"qid\",\"qo\", \"docno\", \"label\"])\n",
    "    qrels['label'] = pd.to_numeric(qrels['label'], downcast='integer')\n",
    "    return qrels"
   ]
  },
  {
   "cell_type": "code",
   "execution_count": null,
   "metadata": {},
   "outputs": [],
   "source": [
    "map_content_json_to_string(result_dict)"
   ]
  },
  {
   "cell_type": "code",
   "execution_count": 12,
   "metadata": {},
   "outputs": [],
   "source": [
    "index_folder = \"/workspaces/CORD19_Plus/retrieval_api/app/indices\"\n",
    "field_dict = {0 : 'docno', 1 : 'ir_id', 2 : 'content', 3 : 'header', 4 : 'caption', 5 : 'references'}\n",
    "field_configs = [[0,1,2], [0,1,3], [0,1,2,3], [0,1,2,3,4]]\n",
    "\n",
    "field_configs = [[1,2,3,4,5]]\n",
    "\n",
    "index_paths = []\n",
    "\n",
    "for config in field_configs:\n",
    "    fields = [field_dict[c] for c in config]\n",
    "    current_path = \"_\".join(fields)\n",
    "    full_path = f\"{index_folder}/{current_path}\"\n",
    "    index_paths.append(full_path)\n",
    "    indexer = pt.IterDictIndexer(f\"{full_path}\", meta={'docno': 1024, 'ir_id': 1024}, overwrite=True)\n",
    "    index_ref = indexer.index(result_dict, fields=fields)\n"
   ]
  },
  {
   "cell_type": "code",
   "execution_count": 13,
   "metadata": {},
   "outputs": [
    {
     "name": "stdout",
     "output_type": "stream",
     "text": [
      "Number of documents: 137\n",
      "Number of terms: 5757\n",
      "Number of postings: 18047\n",
      "Number of fields: 5\n",
      "Number of tokens: 39341\n",
      "Field names: [ir_id, content, header, caption, references]\n",
      "Positions:   false\n"
     ]
    }
   ],
   "source": [
    "index_paths = sorted(index_paths)\n",
    "indices  = [pt.IndexFactory.of(path) for path in index_paths]\n",
    "\n",
    "for index in indices:\n",
    "    print(index.getCollectionStatistics().toString())"
   ]
  },
  {
   "cell_type": "code",
   "execution_count": 14,
   "metadata": {},
   "outputs": [
    {
     "name": "stderr",
     "output_type": "stream",
     "text": [
      "/tmp/ipykernel_189216/3762064394.py:1: DeprecationWarning: Call to deprecated class BatchRetrieve. (use pt.terrier.Retriever() instead) -- Deprecated since version 0.11.0.\n",
      "  engines = {i : pt.BatchRetrieve(indices[i], wmodel=\"BM25\") for i in range(len(indices))}\n"
     ]
    }
   ],
   "source": [
    "engines = {i : pt.BatchRetrieve(indices[i], wmodel=\"BM25\") for i in range(len(indices))}"
   ]
  },
  {
   "cell_type": "code",
   "execution_count": 29,
   "metadata": {},
   "outputs": [],
   "source": [
    "qrels = dataset.get_qrels()"
   ]
  },
  {
   "cell_type": "code",
   "execution_count": 31,
   "metadata": {},
   "outputs": [
    {
     "data": {
      "text/plain": [
       "qid          object\n",
       "docno        object\n",
       "label         int64\n",
       "iteration    object\n",
       "dtype: object"
      ]
     },
     "execution_count": 31,
     "metadata": {},
     "output_type": "execute_result"
    }
   ],
   "source": [
    "qrels.dtypes"
   ]
  },
  {
   "cell_type": "code",
   "execution_count": 32,
   "metadata": {},
   "outputs": [],
   "source": [
    "qrels_path = \"/workspaces/CORD19_Plus/data/clean/table_qrels.json\"\n",
    "qrels = pd.read_json(qrels_path)"
   ]
  },
  {
   "cell_type": "code",
   "execution_count": 34,
   "metadata": {},
   "outputs": [],
   "source": [
    "qrels['qid'] = qrels['qid'].astype(str)"
   ]
  },
  {
   "cell_type": "code",
   "execution_count": 46,
   "metadata": {},
   "outputs": [],
   "source": [
    "qrels['docno'] = qrels['docno'].apply(lambda row: row.replace(\".json\", \"\"))"
   ]
  },
  {
   "cell_type": "code",
   "execution_count": 47,
   "metadata": {},
   "outputs": [
    {
     "data": {
      "text/html": [
       "<div>\n",
       "<style scoped>\n",
       "    .dataframe tbody tr th:only-of-type {\n",
       "        vertical-align: middle;\n",
       "    }\n",
       "\n",
       "    .dataframe tbody tr th {\n",
       "        vertical-align: top;\n",
       "    }\n",
       "\n",
       "    .dataframe thead th {\n",
       "        text-align: right;\n",
       "    }\n",
       "</style>\n",
       "<table border=\"1\" class=\"dataframe\">\n",
       "  <thead>\n",
       "    <tr style=\"text-align: right;\">\n",
       "      <th></th>\n",
       "      <th>qid</th>\n",
       "      <th>docno</th>\n",
       "      <th>label</th>\n",
       "    </tr>\n",
       "  </thead>\n",
       "  <tbody>\n",
       "    <tr>\n",
       "      <th>0</th>\n",
       "      <td>1</td>\n",
       "      <td>006k39tj_13_0</td>\n",
       "      <td>0</td>\n",
       "    </tr>\n",
       "    <tr>\n",
       "      <th>1</th>\n",
       "      <td>1</td>\n",
       "      <td>006k39tj_14_0</td>\n",
       "      <td>0</td>\n",
       "    </tr>\n",
       "    <tr>\n",
       "      <th>2</th>\n",
       "      <td>1</td>\n",
       "      <td>00m2g55u_4_1</td>\n",
       "      <td>0</td>\n",
       "    </tr>\n",
       "    <tr>\n",
       "      <th>3</th>\n",
       "      <td>1</td>\n",
       "      <td>006k39tj_12_0</td>\n",
       "      <td>0</td>\n",
       "    </tr>\n",
       "    <tr>\n",
       "      <th>4</th>\n",
       "      <td>1</td>\n",
       "      <td>011k6mm0_14_0</td>\n",
       "      <td>0</td>\n",
       "    </tr>\n",
       "    <tr>\n",
       "      <th>...</th>\n",
       "      <td>...</td>\n",
       "      <td>...</td>\n",
       "      <td>...</td>\n",
       "    </tr>\n",
       "    <tr>\n",
       "      <th>195</th>\n",
       "      <td>10</td>\n",
       "      <td>01es0zv4_3_0</td>\n",
       "      <td>0</td>\n",
       "    </tr>\n",
       "    <tr>\n",
       "      <th>196</th>\n",
       "      <td>10</td>\n",
       "      <td>011k6mm0_13_1</td>\n",
       "      <td>0</td>\n",
       "    </tr>\n",
       "    <tr>\n",
       "      <th>197</th>\n",
       "      <td>10</td>\n",
       "      <td>01d8cqn4_4_0</td>\n",
       "      <td>2</td>\n",
       "    </tr>\n",
       "    <tr>\n",
       "      <th>198</th>\n",
       "      <td>10</td>\n",
       "      <td>01eyo422_2_0</td>\n",
       "      <td>1</td>\n",
       "    </tr>\n",
       "    <tr>\n",
       "      <th>199</th>\n",
       "      <td>10</td>\n",
       "      <td>01eyo422_3_0</td>\n",
       "      <td>2</td>\n",
       "    </tr>\n",
       "  </tbody>\n",
       "</table>\n",
       "<p>200 rows × 3 columns</p>\n",
       "</div>"
      ],
      "text/plain": [
       "    qid          docno  label\n",
       "0     1  006k39tj_13_0      0\n",
       "1     1  006k39tj_14_0      0\n",
       "2     1   00m2g55u_4_1      0\n",
       "3     1  006k39tj_12_0      0\n",
       "4     1  011k6mm0_14_0      0\n",
       "..   ..            ...    ...\n",
       "195  10   01es0zv4_3_0      0\n",
       "196  10  011k6mm0_13_1      0\n",
       "197  10   01d8cqn4_4_0      2\n",
       "198  10   01eyo422_2_0      1\n",
       "199  10   01eyo422_3_0      2\n",
       "\n",
       "[200 rows x 3 columns]"
      ]
     },
     "execution_count": 47,
     "metadata": {},
     "output_type": "execute_result"
    }
   ],
   "source": [
    "qrels"
   ]
  },
  {
   "cell_type": "code",
   "execution_count": 48,
   "metadata": {},
   "outputs": [
    {
     "name": "stdout",
     "output_type": "stream",
     "text": [
      "We currently have 63318 docs\n",
      "There are 20 unique documents with relance labels\n",
      "We have 0 unique documents which also have official relevance labels\n"
     ]
    }
   ],
   "source": [
    "topics = dataset.get_topics('title')\n",
    "#topics = topics[topics['qid'] == '1']\n",
    "#qrels = dataset.get_qrels()\n",
    "\n",
    "print(f\"We currently have {len(set(avail_ids))} docs\")\n",
    "print(f\"There are {len(qrels['docno'].unique())} unique documents with relance labels\")\n",
    "print(f\"We have {len(set(qrels['docno'].unique()).intersection(set(avail_ids)))} unique documents which also have official relevance labels\")\n",
    "\n",
    "#qrels = qrels[qrels['qid'].isin(topics['qid'])]\n",
    "\n",
    "#table_qrels = load_table_qrels(\"/workspaces/CORD19_Plus/data/tables.qrels\")\n",
    "table_qrels = qrels"
   ]
  },
  {
   "cell_type": "code",
   "execution_count": 61,
   "metadata": {},
   "outputs": [],
   "source": [
    "topics = dataset.get_topics('description')"
   ]
  },
  {
   "cell_type": "code",
   "execution_count": 62,
   "metadata": {},
   "outputs": [
    {
     "data": {
      "text/html": [
       "<div>\n",
       "<style scoped>\n",
       "    .dataframe tbody tr th:only-of-type {\n",
       "        vertical-align: middle;\n",
       "    }\n",
       "\n",
       "    .dataframe tbody tr th {\n",
       "        vertical-align: top;\n",
       "    }\n",
       "\n",
       "    .dataframe thead th {\n",
       "        text-align: right;\n",
       "    }\n",
       "</style>\n",
       "<table border=\"1\" class=\"dataframe\">\n",
       "  <thead>\n",
       "    <tr style=\"text-align: right;\">\n",
       "      <th></th>\n",
       "      <th>name</th>\n",
       "      <th>P_10</th>\n",
       "      <th>P_20</th>\n",
       "      <th>P_50</th>\n",
       "      <th>P_100</th>\n",
       "      <th>map</th>\n",
       "      <th>ndcg_cut_10</th>\n",
       "      <th>ndcg_cut_50</th>\n",
       "      <th>recall_100</th>\n",
       "      <th>mrt</th>\n",
       "    </tr>\n",
       "  </thead>\n",
       "  <tbody>\n",
       "    <tr>\n",
       "      <th>0</th>\n",
       "      <td>ir_id_content_header_caption_references</td>\n",
       "      <td>0.08</td>\n",
       "      <td>0.065</td>\n",
       "      <td>0.046</td>\n",
       "      <td>0.039</td>\n",
       "      <td>0.113002</td>\n",
       "      <td>0.119331</td>\n",
       "      <td>0.217633</td>\n",
       "      <td>0.7175</td>\n",
       "      <td>5.281291</td>\n",
       "    </tr>\n",
       "  </tbody>\n",
       "</table>\n",
       "</div>"
      ],
      "text/plain": [
       "                                      name  P_10   P_20   P_50  P_100  \\\n",
       "0  ir_id_content_header_caption_references  0.08  0.065  0.046  0.039   \n",
       "\n",
       "        map  ndcg_cut_10  ndcg_cut_50  recall_100       mrt  \n",
       "0  0.113002     0.119331     0.217633      0.7175  5.281291  "
      ]
     },
     "execution_count": 62,
     "metadata": {},
     "output_type": "execute_result"
    }
   ],
   "source": [
    "pt.Experiment(\n",
    "    [engines[key] for key in sorted(engines.keys())],\n",
    "    topics[:10],\n",
    "    table_qrels,\n",
    "    eval_metrics=['P_10', 'P_20', 'P_50','P_100', 'map', 'ndcg_cut_10','ndcg_cut_50','recall_100', 'mrt'],\n",
    "    names = [path.split(\"/\")[-1].replace(\"docno_ir_id_\", \"\") for path in index_paths]\n",
    ")"
   ]
  },
  {
   "cell_type": "code",
   "execution_count": 76,
   "metadata": {},
   "outputs": [],
   "source": [
    "topics_t = dataset.get_topics('title')\n",
    "topics_d = dataset.get_topics('description')\n",
    "topics_n = dataset.get_topics('narrative')\n",
    "\n",
    "topics_all = dataset.get_topics('title')"
   ]
  },
  {
   "cell_type": "code",
   "execution_count": 74,
   "metadata": {},
   "outputs": [
    {
     "data": {
      "text/plain": [
       "'what is the origin of covid 19'"
      ]
     },
     "execution_count": 74,
     "metadata": {},
     "output_type": "execute_result"
    }
   ],
   "source": [
    "topics_d.loc[0]['query']"
   ]
  },
  {
   "cell_type": "code",
   "execution_count": 83,
   "metadata": {},
   "outputs": [],
   "source": [
    "topics_all['query'] = topics_all.apply(lambda row: f\"{topics_t.loc[int(row['qid'])-1]} {topics_d.loc[int(row['qid'])-1]} {topics_n.loc[int(row['qid'])-1]}\", axis=1)"
   ]
  },
  {
   "cell_type": "code",
   "execution_count": 78,
   "metadata": {},
   "outputs": [
    {
     "data": {
      "text/plain": [
       "'1'"
      ]
     },
     "execution_count": 78,
     "metadata": {},
     "output_type": "execute_result"
    }
   ],
   "source": [
    "topic"
   ]
  }
 ],
 "metadata": {
  "kernelspec": {
   "display_name": "Python 3",
   "language": "python",
   "name": "python3"
  },
  "language_info": {
   "codemirror_mode": {
    "name": "ipython",
    "version": 3
   },
   "file_extension": ".py",
   "mimetype": "text/x-python",
   "name": "python",
   "nbconvert_exporter": "python",
   "pygments_lexer": "ipython3",
   "version": "3.10.15"
  }
 },
 "nbformat": 4,
 "nbformat_minor": 2
}
