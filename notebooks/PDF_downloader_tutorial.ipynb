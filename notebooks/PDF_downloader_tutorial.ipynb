{
 "cells": [
  {
   "cell_type": "markdown",
   "metadata": {},
   "source": [
    "# Tutorial Notebook to explain the process of using the downloaders module"
   ]
  },
  {
   "cell_type": "code",
   "execution_count": 1,
   "metadata": {
    "ExecuteTime": {
     "end_time": "2024-05-13T10:09:47.482733258Z",
     "start_time": "2024-05-13T10:09:47.400848969Z"
    }
   },
   "outputs": [],
   "source": [
    "from cord19_plus.downloadpdf.downloaders import Cord19Reader, Index, IndexRow, Status, OpenAlex, URLDownloader\n",
    "import logging\n",
    "\n",
    "logging.basicConfig(level=logging.INFO)\n",
    "logging.getLogger(\"urllib3\").setLevel(logging.CRITICAL)  # Dont clutter logs with urllib3 messages."
   ]
  },
  {
   "cell_type": "markdown",
   "metadata": {},
   "source": [
    "## Information\n",
    "### Classes\n",
    "\n",
    "The downloaders module defines different classes that help you download PDF's from the Cord19 dataset.\n",
    "\n",
    "- Cord19Reader : Read the metadata file of the cord19 dataset.  \n",
    "- Index : Keeps track of which files have already been downloaded and their status.  \n",
    "- OpenAlex : Used to find OpenAccess URl's via OpenAlex.  \n",
    "- URLDownloader : Download a PDF using a link to that PDF.  \n",
    "\n",
    "\n",
    "### Errors\n",
    "- PDFNotAvailableError : Raised when a PDF can not be downloaded over the direct link to that PDF. This can occurs when websites implement extra measures to keep people from automatically scraping their website, or simply when OpenAlex does  not have a direct link to the PDF indexed.\n",
    "- NotOpenAccessError : The requested PDF is not OpenAccess.\n"
   ]
  },
  {
   "cell_type": "markdown",
   "metadata": {},
   "source": [
    "## Hands on\n",
    "\n",
    "To download the PDF's we will first need to create an Index Object. This will ensure that we do not check the same PDF twice, the Index aditionally handles saving the PDF's. The entries inside the Index are directly written and loaded from a file called `index.jsonl`. The path to which we have to specify beforehand, aswell as the directory to which we will want to download the PDF's. The Index is represented as a dictionary which has DOI's as the key and a IndexRow object as a value. A IndexRow consists of a DOI, Status, pdf_path and pdf_url."
   ]
  },
  {
   "cell_type": "code",
   "execution_count": null,
   "metadata": {},
   "outputs": [],
   "source": [
    "# Create the index from the specified index.jsonl file and specify which directory to use for saving.\n",
    "# If the file does not exist it will be created. Same goes for the download directory.\n",
    "index = Index.from_jsonl(\"index.jsonl\", \"pdfs\")"
   ]
  },
  {
   "cell_type": "markdown",
   "metadata": {},
   "source": [
    "Create the reader object, which is a generator yielding the next line of the metadata.csv file. If a DOI from the metadata.csv is already contained in the Index this entry will be skipped."
   ]
  },
  {
   "cell_type": "code",
   "execution_count": null,
   "metadata": {},
   "outputs": [],
   "source": [
    "# create the reader object\n",
    "reader = Cord19Reader(\"\")  # \n",
    "meta = reader.read_metadata(index)"
   ]
  },
  {
   "cell_type": "markdown",
   "metadata": {},
   "source": [
    "Specify OpenAlex and URLDownloader classes to retrieve open-access URL's and download them."
   ]
  },
  {
   "cell_type": "code",
   "execution_count": null,
   "metadata": {},
   "outputs": [],
   "source": [
    "oa = OpenAlex(\n",
    "    \"\"  # set e-mail address\n",
    ")  # OpenAlex class used to retrieve open-access URL's from the openalex api.\n",
    "dl = URLDownloader()  # Download PDF's from a URL.\n",
    "\n",
    "for idx, m in enumerate(meta):  # read in the first entries of the metadata.csv file\n",
    "    if idx >= 10:\n",
    "        break\n",
    "    try:\n",
    "        oa_url = oa.find_pdf_url(m[\"doi\"])  # request open-access URL\n",
    "        content = dl.request_pdf(oa_url)  # retrieve PDF bytes\n",
    "        index.save_file(content, m[\"doi\"], oa_url)  # Write PDF bytes to download directory and add to Index.\n",
    "    except:\n",
    "        index.add(\n",
    "            m[\"doi\"], Status.UNAVAILABLE, None, oa_url\n",
    "        )  # If an error occured during requesting add entry to index as unavailable."
   ]
  }
 ],
 "metadata": {
  "kernelspec": {
   "display_name": "Python 3 (ipykernel)",
   "language": "python",
   "name": "python3"
  },
  "language_info": {
   "codemirror_mode": {
    "name": "ipython",
    "version": 3
   },
   "file_extension": ".py",
   "mimetype": "text/x-python",
   "name": "python",
   "nbconvert_exporter": "python",
   "pygments_lexer": "ipython3",
   "version": "3.10.14"
  }
 },
 "nbformat": 4,
 "nbformat_minor": 2
}
